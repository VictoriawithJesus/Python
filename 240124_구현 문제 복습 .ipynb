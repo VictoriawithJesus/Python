{
 "cells": [
  {
   "cell_type": "markdown",
   "id": "3fa62433",
   "metadata": {},
   "source": [
    "정사각형 지도가 있을 때,\n",
    "ex ) 5 x 5 일때\n",
    "몇개의 움직임을 주고ㅡ 이후에 위치 \n",
    "(지도 밖으로 나가는 것은 허용되지 않음 그럴 경우 그냥 묵과함)\n"
   ]
  },
  {
   "cell_type": "code",
   "execution_count": null,
   "id": "a7b1bc57",
   "metadata": {},
   "outputs": [],
   "source": [
    "이만 들어가보겠습니다. 남은 시간도 화이팅입니다. :> "
   ]
  },
  {
   "cell_type": "markdown",
   "id": "826732dd",
   "metadata": {},
   "source": [
    "\n",
    "1. 우선 정사각형의 지도를 입력 받기 \n",
    "여기서는 먼저 다른 개념을 이해하기 때문에 \n",
    "5X5 로 무조건 가겠음 \n",
    "N = 5\n",
    "\n",
    "2. 초기값 설정하기 \n",
    "(1,1) <<초기에 시작하는 좌표는 고정되어있으니까\n",
    "x, y = 1, 1 \n",
    "이렇게 고정하고 시작하면 됨 \n",
    "\n",
    "\n",
    "3. 계획서를 입력받기 \n",
    "input()함수, 그리고 각각 움직임을 띄어쓰기로 구분할거니까 또 split() 함수 필요 \n",
    "\n",
    "계획서 = input().split() \n",
    "이렇게 들어 갈 것임\n",
    "\n",
    "4. 이동 방향 정의하기 \n",
    "이동 방향도 4개 밖에 없음\n",
    "왼쪽, 오른쪽, 위, 아래\n",
    "L,R,U,D\n",
    "\n",
    "5. 여기서부터 좀 다른데, 이거 만든 사람은 좀 다르게 생각했음\n",
    "그러니까 입력 받은게 R, 이라면 \n",
    "R이 L,R,U,D 중에 속한 것이 있는지 검사하는거임 \n",
    "\n",
    "그래서 어떤 개념이냐면 \n",
    "\n",
    "어떤 애가 있음\n",
    "\n",
    "애[0][0] \n",
    "CASE1. 오른쪽으로 한 칸 이동한다 \n",
    "-> 애[0][1]\n",
    "\n",
    "CASE2. 왼쪽으로 한 칸 이동한다.\n",
    "-> 애[0][-1]\n",
    "\n",
    "\n",
    "\n"
   ]
  }
 ],
 "metadata": {
  "kernelspec": {
   "display_name": "Python 3 (ipykernel)",
   "language": "python",
   "name": "python3"
  },
  "language_info": {
   "codemirror_mode": {
    "name": "ipython",
    "version": 3
   },
   "file_extension": ".py",
   "mimetype": "text/x-python",
   "name": "python",
   "nbconvert_exporter": "python",
   "pygments_lexer": "ipython3",
   "version": "3.9.13"
  }
 },
 "nbformat": 4,
 "nbformat_minor": 5
}
